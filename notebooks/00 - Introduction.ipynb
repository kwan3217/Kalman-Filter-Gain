{
 "cells": [
  {
   "cell_type": "code",
   "execution_count": null,
   "metadata": {},
   "outputs": [],
   "source": []
  },
  {
   "cell_type": "markdown",
   "metadata": {},
   "source": [
    "Introduction - start filling this in once we have a better outline.\n",
    "Maybe make all the other videos first, then the introduction\n",
    "Aim for roughly 10-20 minute videos, except for intro which might be a lot shorter\n",
    "\n",
    "I'm going to leave the process model to a lot later in the series than is normal,\n",
    "mostly because linear processes aren't very interesting, and we need a lot of good\n",
    "build-up before we get to nonlinear processes.\n",
    "\n",
    "* 00 - Introduction\n",
    "* 10 - State vector and measurement vector\n",
    "  - This will show state vectors, introduce measurement space, and talk about nonlinear and linear measurement functions\n",
    "* 20 - Covariance\n",
    "       Random variables and my philosophy on how math and probability interact. Expectation operator,\n",
    "       covariance matrix, and bias\n",
    "* 30 - Estimation\n",
    "       Why do we need an estimation process in the first place -- measurement isn't in same space, and\n",
    "       true state isn't visible. Estimation is random, because measurement is random.\n",
    "* 40 - Best Linear Estimator\n",
    "       This is the intereresting part that I have always wanted to focus on, the\n",
    "       (B)est (L)inear (U)nbiased (E)stimator. Explain what is meant by each letter,\n",
    "       and show that the linear Kalman filter is BLUE. I've got the Best part down,\n",
    "       need more study to show Unbiased.\n",
    "* 45 - Unbiased\n",
    "       The unbiased part\n",
    "* 05 - State Propagation\n",
    "       Usually we are measuring a system which is changing in time. How does the estimate\n",
    "       get time-updated so that the measurements at different times can be used together?\n",
    "* 06 - Nonlinear state transition\n",
    "       \"The linear filter is typically used to solve nonlinear problems\"\n",
    "* 07 - Nonlinear measurement matrix\n",
    "* 08 - \n"
   ]
  }
 ],
 "metadata": {
  "language_info": {
   "name": "python"
  },
  "orig_nbformat": 4
 },
 "nbformat": 4,
 "nbformat_minor": 2
}
