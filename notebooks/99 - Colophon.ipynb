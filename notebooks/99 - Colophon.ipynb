{
 "cells": [
  {
   "cell_type": "markdown",
   "metadata": {},
   "source": [
    "# Inspiration\n",
    "This is dedicated to James Blinn. His work in the mid-80s on the Voyager computer animations, specifically the Miranda flyby sequence, is the exact thing that inspired me to work in the space industry. His other work with *The Mechanical Universe* inspired my love for dancing equations.\n",
    "\n",
    "# Why not a video?\n",
    "First, I wanted to make this into a video series, and I still plan to. "
   ]
  }
 ],
 "metadata": {
  "language_info": {
   "name": "python"
  },
  "orig_nbformat": 4
 },
 "nbformat": 4,
 "nbformat_minor": 2
}
