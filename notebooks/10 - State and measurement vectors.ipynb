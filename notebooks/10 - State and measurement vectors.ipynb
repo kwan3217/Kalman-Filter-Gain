{
 "cells": [
  {
   "cell_type": "markdown",
   "metadata": {},
   "source": []
  },
  {
   "cell_type": "markdown",
   "metadata": {},
   "source": [
    "### $\\TeX$ Stuff\n",
    "$$\n",
    "\\def\\M#1{{[\\mathbf{#1}]}}\n",
    "\\def\\MM#1#2{{[\\mathbf{#1}{#2}]}}\n",
    "\\def\\E{\\operatorname{E}}\n",
    "\\def\\cov{\\operatorname{cov}}\n",
    "\\def\\T{^\\mathsf{T}}\n",
    "$$\n"
   ]
  },
  {
   "cell_type": "markdown",
   "metadata": {},
   "source": [
    "# State Vector\n",
    "\n",
    "> Zeno argued that motion is an illusion. Ask him about that in traffic.\n",
    ">  --Attributed to Isaac Asimov\n",
    "\n",
    "Physics is the study of motion. The Kalman filter is applicable to many other fields, but it was originally developed in this context, and it's the context that I know best. In order to do physics and study the world with mathematics, we need to re-express the physics in the mathematical language. Most frequently, we have some *model* of some real-world system, which can roughly be broken down into two parts:\n",
    "\n",
    "* The rules that the system follows. We will often call this the system dynamics or kinematics.\n",
    "* Something quantifying the system, capturing all of the necessary information to plug into the model and use it. We will call this the system state.\n",
    "\n",
    "The whole point of physics is that if you know the dynamics and state of a system, you can predict what it will do.\n",
    "\n",
    "For example, let's introduce a model which will be used frequently in this document. It's pretty much the simplest useful model possible. Imagine a cart on a straight rail. Our current model doesn't have any friction, air resistance, or anything else like that. It runs on bearings made of 100% pure spherical cow.\n",
    "\n",
    "The rules that the cart follows are based on Newton's three laws of motion:\n",
    "\n",
    "1. A body at rest will remain at rest, and a body in motion will remain in motion at constant speed and direction\n",
    "2. Force equals mass times acceleration\n",
    "3. Every action has an equal and opposite reaction\n",
    "\n",
    "It turns out that we don't need the third law, since there is only one object in the universe as far as we are concerned. So, we will go like this:\n",
    "\n",
    "0. The part of the universe that we are modeling consists of a single body, a constant-mass cart rolling through vacuum on frictionless rails. At any time, it has a definite position and velocity.\n",
    "1. The cart has inertia, meaning it follows the normal first law of motion if no forces are imposed on it.\n",
    "2. At any time, the acceleration of the cart is proportional to the force imposed on it"
   ]
  }
 ],
 "metadata": {
  "language_info": {
   "name": "python"
  },
  "orig_nbformat": 4
 },
 "nbformat": 4,
 "nbformat_minor": 2
}
